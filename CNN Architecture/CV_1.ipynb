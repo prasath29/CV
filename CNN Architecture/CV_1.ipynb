{
  "cells": [
    {
      "cell_type": "code",
      "execution_count": 1,
      "metadata": {
        "id": "McC5sUCRzfMh"
      },
      "outputs": [],
      "source": [
        "import tensorflow as tf\n",
        "from tensorflow.keras import layers\n"
      ]
    },
    {
      "cell_type": "code",
      "execution_count": 2,
      "metadata": {
        "colab": {
          "base_uri": "https://localhost:8080/"
        },
        "id": "-SEqhZEVzkJ4",
        "outputId": "59cfa8b3-85a4-4fd3-812c-2302f98c0e55"
      },
      "outputs": [
        {
          "name": "stdout",
          "output_type": "stream",
          "text": [
            "Downloading data from https://www.cs.toronto.edu/~kriz/cifar-10-python.tar.gz\n",
            "170498071/170498071 [==============================] - 64s 0us/step\n"
          ]
        }
      ],
      "source": [
        "# Load the dataset\n",
        "(x_train, y_train), (x_test, y_test) = tf.keras.datasets.cifar10.load_data()\n"
      ]
    },
    {
      "cell_type": "code",
      "execution_count": 3,
      "metadata": {
        "id": "8I8mmmwezkxw"
      },
      "outputs": [],
      "source": [
        "# Normalize pixel values to be between 0 and 1\n",
        "x_train, x_test = x_train / 255.0, x_test / 255.0\n"
      ]
    },
    {
      "cell_type": "code",
      "execution_count": 4,
      "metadata": {
        "id": "QifE_zh1zbN5"
      },
      "outputs": [],
      "source": [
        "# Define the CNN architecture\n",
        "model = tf.keras.Sequential([\n",
        "    layers.Conv2D(32, (3, 3), activation='relu', input_shape=(32, 32, 3)),\n",
        "    layers.MaxPooling2D(pool_size=(2, 2)),\n",
        "    layers.Dropout(0.25),\n",
        "\n",
        "    layers.Conv2D(64, (3, 3), activation='relu'),\n",
        "    layers.MaxPooling2D(pool_size=(2, 2)),\n",
        "    layers.Dropout(0.25),\n",
        "\n",
        "    layers.Conv2D(128, (3, 3), activation='relu'),\n",
        "    layers.MaxPooling2D(pool_size=(2, 2)),\n",
        "    layers.Dropout(0.25),\n",
        "\n",
        "    layers.Flatten(),\n",
        "    layers.Dense(512, activation='relu'),\n",
        "    layers.Dropout(0.5),\n",
        "\n",
        "    layers.Dense(10, activation='softmax')\n",
        "])\n"
      ]
    },
    {
      "cell_type": "code",
      "execution_count": 5,
      "metadata": {
        "id": "NL-9wsSczxfP"
      },
      "outputs": [],
      "source": [
        "# Compile the model with Adam optimizer and categorical crossentropy loss\n",
        "model.compile(optimizer='adam', loss='sparse_categorical_crossentropy', metrics=['accuracy'])\n"
      ]
    },
    {
      "cell_type": "code",
      "execution_count": 6,
      "metadata": {
        "colab": {
          "base_uri": "https://localhost:8080/"
        },
        "id": "yqETn6_Uzx7w",
        "outputId": "a39c6f18-b5e2-4dfc-f51c-4337c945346e"
      },
      "outputs": [
        {
          "name": "stdout",
          "output_type": "stream",
          "text": [
            "Epoch 1/10\n",
            "1407/1407 [==============================] - 51s 34ms/step - loss: 1.6679 - accuracy: 0.3832 - val_loss: 1.3376 - val_accuracy: 0.5152\n",
            "Epoch 2/10\n",
            "1407/1407 [==============================] - 45s 32ms/step - loss: 1.3272 - accuracy: 0.5228 - val_loss: 1.1733 - val_accuracy: 0.5744\n",
            "Epoch 3/10\n",
            "1407/1407 [==============================] - 50s 36ms/step - loss: 1.2014 - accuracy: 0.5751 - val_loss: 1.0243 - val_accuracy: 0.6480\n",
            "Epoch 4/10\n",
            "1407/1407 [==============================] - 40s 28ms/step - loss: 1.1156 - accuracy: 0.6048 - val_loss: 1.0009 - val_accuracy: 0.6488\n",
            "Epoch 5/10\n",
            "1407/1407 [==============================] - 32s 23ms/step - loss: 1.0658 - accuracy: 0.6236 - val_loss: 0.9737 - val_accuracy: 0.6604\n",
            "Epoch 6/10\n",
            "1407/1407 [==============================] - 32s 22ms/step - loss: 1.0274 - accuracy: 0.6388 - val_loss: 0.8841 - val_accuracy: 0.6936\n",
            "Epoch 7/10\n",
            "1407/1407 [==============================] - 31s 22ms/step - loss: 0.9908 - accuracy: 0.6513 - val_loss: 0.8561 - val_accuracy: 0.7038\n",
            "Epoch 8/10\n",
            "1407/1407 [==============================] - 34s 24ms/step - loss: 0.9600 - accuracy: 0.6624 - val_loss: 0.8090 - val_accuracy: 0.7250\n",
            "Epoch 9/10\n",
            "1407/1407 [==============================] - 33s 23ms/step - loss: 0.9420 - accuracy: 0.6703 - val_loss: 0.8394 - val_accuracy: 0.7090\n",
            "Epoch 10/10\n",
            "1407/1407 [==============================] - 36s 25ms/step - loss: 0.9219 - accuracy: 0.6749 - val_loss: 0.8029 - val_accuracy: 0.7130\n"
          ]
        },
        {
          "data": {
            "text/plain": [
              "<keras.callbacks.History at 0x1d1377cd180>"
            ]
          },
          "execution_count": 6,
          "metadata": {},
          "output_type": "execute_result"
        }
      ],
      "source": [
        "# Train the model\n",
        "model.fit(x_train, y_train, epochs=10, validation_split=0.1)\n"
      ]
    },
    {
      "cell_type": "code",
      "execution_count": 7,
      "metadata": {
        "colab": {
          "base_uri": "https://localhost:8080/"
        },
        "id": "VMDSjSgtzzwf",
        "outputId": "bbdd225e-dde7-4f57-cb38-6f857868a96c"
      },
      "outputs": [
        {
          "name": "stdout",
          "output_type": "stream",
          "text": [
            "313/313 [==============================] - 2s 7ms/step - loss: 0.8399 - accuracy: 0.7095\n"
          ]
        },
        {
          "data": {
            "text/plain": [
              "[0.8398609161376953, 0.7095000147819519]"
            ]
          },
          "execution_count": 7,
          "metadata": {},
          "output_type": "execute_result"
        }
      ],
      "source": [
        "# Evaluate the model on the test dataset\n",
        "model.evaluate(x_test, y_test)\n",
        "\n"
      ]
    }
  ],
  "metadata": {
    "colab": {
      "provenance": []
    },
    "kernelspec": {
      "display_name": "Python 3",
      "name": "python3"
    },
    "language_info": {
      "codemirror_mode": {
        "name": "ipython",
        "version": 3
      },
      "file_extension": ".py",
      "mimetype": "text/x-python",
      "name": "python",
      "nbconvert_exporter": "python",
      "pygments_lexer": "ipython3",
      "version": "3.10.7"
    }
  },
  "nbformat": 4,
  "nbformat_minor": 0
}
