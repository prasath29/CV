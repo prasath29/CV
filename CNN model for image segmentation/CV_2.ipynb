{
  "cells": [
    {
      "cell_type": "code",
      "execution_count": 1,
      "metadata": {
        "id": "F48CJ21fz7vT"
      },
      "outputs": [],
      "source": [
        "import numpy as np\n",
        "import tensorflow as tf\n",
        "from tensorflow.keras.datasets import mnist\n",
        "from tensorflow.keras.models import Sequential\n",
        "from tensorflow.keras.layers import Conv2D, MaxPooling2D, Dropout, Flatten, Dense\n",
        "import matplotlib.pyplot as plt\n"
      ]
    },
    {
      "cell_type": "code",
      "execution_count": 2,
      "metadata": {
        "colab": {
          "base_uri": "https://localhost:8080/"
        },
        "id": "jxLkaCHh0ALR",
        "outputId": "426e8477-b158-4661-9692-85fc72c17d4e"
      },
      "outputs": [
        {
          "name": "stdout",
          "output_type": "stream",
          "text": [
            "Downloading data from https://storage.googleapis.com/tensorflow/tf-keras-datasets/mnist.npz\n",
            "11490434/11490434 [==============================] - 7s 1us/step\n"
          ]
        }
      ],
      "source": [
        "# Load MNIST dataset\n",
        "(x_train, y_train), (x_test, y_test) = mnist.load_data()\n"
      ]
    },
    {
      "cell_type": "code",
      "execution_count": 3,
      "metadata": {
        "id": "MT3-h8FJ0D5B"
      },
      "outputs": [],
      "source": [
        "x_train = x_train.reshape(x_train.shape[0], x_train.shape[1], x_train.shape[2], 1)\n",
        "x_test = x_test.reshape(x_test.shape[0], x_test.shape[1], x_test.shape[2], 1)\n"
      ]
    },
    {
      "cell_type": "code",
      "execution_count": 4,
      "metadata": {
        "id": "WCnFzWxk0FxQ"
      },
      "outputs": [],
      "source": [
        "# Normalize pixel values between 0 and 1\n",
        "x_train = x_train.astype('float32') / 255.\n",
        "x_test = x_test.astype('float32') / 255.\n"
      ]
    },
    {
      "cell_type": "code",
      "execution_count": 5,
      "metadata": {
        "id": "TByOM5NO0ILg"
      },
      "outputs": [],
      "source": [
        "# Define number of labels\n",
        "num_labels = 10\n"
      ]
    },
    {
      "cell_type": "code",
      "execution_count": 6,
      "metadata": {
        "id": "V6bx99JW0KAQ"
      },
      "outputs": [],
      "source": [
        "# Define input shape of the images\n",
        "input_shape = x_train.shape[1:]\n",
        "\n"
      ]
    },
    {
      "cell_type": "code",
      "execution_count": 7,
      "metadata": {
        "id": "YdHT5FOI0L9w"
      },
      "outputs": [],
      "source": [
        "# Define the CNN\n",
        "model = Sequential([\n",
        "    Conv2D(32, 3, activation='relu', input_shape=input_shape),\n",
        "    MaxPooling2D(2),\n",
        "    Conv2D(64, 3, activation='relu'),\n",
        "    MaxPooling2D(2),\n",
        "    Dropout(0.25),\n",
        "    Flatten(),\n",
        "    Dense(128, activation='relu'),\n",
        "    Dropout(0.5),\n",
        "    Dense(num_labels, activation='softmax')\n",
        "])\n"
      ]
    },
    {
      "cell_type": "code",
      "execution_count": 8,
      "metadata": {
        "id": "iIzu70Q30OBo"
      },
      "outputs": [],
      "source": [
        "# Compile the model\n",
        "model.compile(optimizer='adam', loss='categorical_crossentropy', metrics=['accuracy'])\n",
        "\n"
      ]
    },
    {
      "cell_type": "code",
      "execution_count": 9,
      "metadata": {
        "id": "gE2k__sp0PhZ"
      },
      "outputs": [],
      "source": [
        "# Convert labels to categorical\n",
        "y_train = tf.keras.utils.to_categorical(y_train, num_labels)\n",
        "y_test = tf.keras.utils.to_categorical(y_test, num_labels)\n",
        "\n"
      ]
    },
    {
      "cell_type": "code",
      "execution_count": 10,
      "metadata": {
        "colab": {
          "base_uri": "https://localhost:8080/"
        },
        "id": "NBSSMVAF0Rig",
        "outputId": "7958f0c4-9579-48a0-b714-a1d159dada59"
      },
      "outputs": [
        {
          "name": "stdout",
          "output_type": "stream",
          "text": [
            "Epoch 1/10\n",
            "469/469 [==============================] - 26s 53ms/step - loss: 0.3085 - accuracy: 0.9044 - val_loss: 0.0615 - val_accuracy: 0.9806\n",
            "Epoch 2/10\n",
            "469/469 [==============================] - 23s 49ms/step - loss: 0.0976 - accuracy: 0.9708 - val_loss: 0.0376 - val_accuracy: 0.9873\n",
            "Epoch 3/10\n",
            "469/469 [==============================] - 20s 42ms/step - loss: 0.0728 - accuracy: 0.9780 - val_loss: 0.0351 - val_accuracy: 0.9880\n",
            "Epoch 4/10\n",
            "469/469 [==============================] - 19s 41ms/step - loss: 0.0606 - accuracy: 0.9818 - val_loss: 0.0273 - val_accuracy: 0.9907\n",
            "Epoch 5/10\n",
            "469/469 [==============================] - 27s 57ms/step - loss: 0.0529 - accuracy: 0.9848 - val_loss: 0.0281 - val_accuracy: 0.9905\n",
            "Epoch 6/10\n",
            "469/469 [==============================] - 23s 50ms/step - loss: 0.0462 - accuracy: 0.9858 - val_loss: 0.0260 - val_accuracy: 0.9908\n",
            "Epoch 7/10\n",
            "469/469 [==============================] - 21s 45ms/step - loss: 0.0409 - accuracy: 0.9881 - val_loss: 0.0232 - val_accuracy: 0.9924\n",
            "Epoch 8/10\n",
            "469/469 [==============================] - 22s 47ms/step - loss: 0.0372 - accuracy: 0.9883 - val_loss: 0.0208 - val_accuracy: 0.9929\n",
            "Epoch 9/10\n",
            "469/469 [==============================] - 20s 42ms/step - loss: 0.0344 - accuracy: 0.9893 - val_loss: 0.0230 - val_accuracy: 0.9928\n",
            "Epoch 10/10\n",
            "469/469 [==============================] - 21s 46ms/step - loss: 0.0316 - accuracy: 0.9904 - val_loss: 0.0217 - val_accuracy: 0.9929\n"
          ]
        },
        {
          "data": {
            "text/plain": [
              "<keras.callbacks.History at 0x132800faf20>"
            ]
          },
          "execution_count": 10,
          "metadata": {},
          "output_type": "execute_result"
        }
      ],
      "source": [
        "# Train the model\n",
        "model.fit(x_train, y_train, batch_size=128, epochs=10, validation_data=(x_test, y_test))\n",
        "\n"
      ]
    },
    {
      "cell_type": "code",
      "execution_count": 11,
      "metadata": {
        "colab": {
          "base_uri": "https://localhost:8080/"
        },
        "id": "R1ind8tk0TFY",
        "outputId": "7e84e3b7-7498-4196-a42d-b0f2e7048960"
      },
      "outputs": [
        {
          "name": "stdout",
          "output_type": "stream",
          "text": [
            "313/313 [==============================] - 1s 4ms/step - loss: 0.0217 - accuracy: 0.9929\n",
            "Test loss: 0.021728137508034706\n",
            "Test accuracy: 0.992900013923645\n"
          ]
        }
      ],
      "source": [
        "# Evaluate the model\n",
        "loss, accuracy = model.evaluate(x_test, y_test)\n",
        "print('Test loss:', loss)\n",
        "print('Test accuracy:', accuracy)\n",
        "\n"
      ]
    },
    {
      "cell_type": "code",
      "execution_count": 12,
      "metadata": {
        "id": "bIUovybw0VhY"
      },
      "outputs": [],
      "source": [
        "# Select a random image from the test set\n",
        "index = np.random.randint(0, x_test.shape[0])\n",
        "image = x_test[index]\n",
        "label = y_test[index]\n"
      ]
    },
    {
      "cell_type": "code",
      "execution_count": 13,
      "metadata": {
        "colab": {
          "base_uri": "https://localhost:8080/"
        },
        "id": "kdENb7pR0ZOg",
        "outputId": "d691f93b-6da2-487f-dac5-214b6e3a1562"
      },
      "outputs": [
        {
          "name": "stdout",
          "output_type": "stream",
          "text": [
            "1/1 [==============================] - 0s 91ms/step\n"
          ]
        }
      ],
      "source": [
        "# Segment the image\n",
        "segmented_image = model.predict(np.expand_dims(image, axis=0))[0]\n",
        "segmented_label = np.argmax(segmented_image)\n"
      ]
    },
    {
      "cell_type": "code",
      "execution_count": 14,
      "metadata": {
        "colab": {
          "base_uri": "https://localhost:8080/",
          "height": 478
        },
        "id": "XXRYnrKQ0aO4",
        "outputId": "a9975eb4-c865-46fc-f072-bdc879ea2385"
      },
      "outputs": [
        {
          "data": {
            "image/png": "[encoded data removed]",
            "text/plain": [
              "<Figure size 640x480 with 2 Axes>"
            ]
          },
          "metadata": {},
          "output_type": "display_data"
        }
      ],
      "source": [
        "\n",
        "# Plot the original and segmented images\n",
        "fig, (ax1, ax2) = plt.subplots(1, 2)\n",
        "fig.suptitle(f'Original Label: {np.argmax(label)} | Segmented Label: {segmented_label}')\n",
        "ax1.imshow(image, cmap='gray')\n",
        "# ax2.imshow(segmented_image, cmap='gray'\n",
        "plt.show()\n"
      ]
    }
  ],
  "metadata": {
    "colab": {
      "provenance": []
    },
    "gpuClass": "standard",
    "kernelspec": {
      "display_name": "Python 3",
      "name": "python3"
    },
    "language_info": {
      "codemirror_mode": {
        "name": "ipython",
        "version": 3
      },
      "file_extension": ".py",
      "mimetype": "text/x-python",
      "name": "python",
      "nbconvert_exporter": "python",
      "pygments_lexer": "ipython3",
      "version": "3.10.7"
    }
  },
  "nbformat": 4,
  "nbformat_minor": 0
}
